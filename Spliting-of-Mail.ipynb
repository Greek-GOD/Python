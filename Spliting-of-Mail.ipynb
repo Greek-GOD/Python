{
 "cells": [
  {
   "cell_type": "code",
   "execution_count": 2,
   "id": "4bec0052",
   "metadata": {},
   "outputs": [
    {
     "name": "stdout",
     "output_type": "stream",
     "text": [
      "['apple', 'banana', 'cherry', 'orange']\n"
     ]
    }
   ],
   "source": [
    "fruits = \"apple#banana#cherry#orange\"\n",
    "a = fruits.split(\"#\")\n",
    "print(a)"
   ]
  },
  {
   "cell_type": "code",
   "execution_count": 10,
   "id": "c7a5d55e",
   "metadata": {},
   "outputs": [
    {
     "name": "stdout",
     "output_type": "stream",
     "text": [
      "['turboslayer', 'gmail.com, someone', 'outlook.com, crashtv', 'gov.in, blue_defender', 'gmail.com, logan', 'yahoo.com, ironmerc', 'gov.in, steeltitan', 'outlook.com, stealthedefender', 'yahoo.com, blaze_assault', 'gov.in, venom_fate', 'yahoo.com, dark_side', 'yahoo.com, fataldestiny', 'yahoo.com, ultimatebeast', 'outlook.com, masked_titan', 'gmail.com, frozen_gunner', 'yahoo.com, username_copied', 'gov.in, whos_ur_buddy', 'outlook.com, unfinished_sentenc', 'gov.in, all_gone', 'gov.in, something', 'gmail.com, president', 'gmail.com, tinfoilhat', 'gmail.com, anonymouse', 'yahoo.com, definitely_not_an_athlete', 'outlook.com, dropout', 'gov.in, paw_friend', 'outlook.com, test_name_please_ignore', 'gov.in, heyyou', 'gov.in, a_distraction', 'yahoo.com, thegodfatherpart4', 'gov.in, unfriendme', 'outlook.com, doodles', 'gmail.com, fluffycookie', 'yahoo.com, theintolerant', 'gmail.com, fourhour', 'yahoo.com, toastedwithcheese', 'gmail.com, futureking', 'yahoo.com, coolshirtbruh', 'outlook.com, kentucky', 'yahoo.com, chocolate', 'gmail.com, saintbroseph', 'yahoo.com, just_chillin', 'gmail.com, ghostface', 'gov.in, bigfootisreal', 'yahoo.com, newbie', 'yahoo.com, alienware', 'outlook.com, chrishemsworth', 'outlook.com, nachocheesefries', 'outlook.com, reginageorge', 'gov.in, harmless_potato', 'outlook.com, frostedcupcake', 'outlook.com, avocadorable', 'outlook.com, pixie_dust', 'gmail.com, chopsuey', 'yahoo.com, iron_man', 'gov.in, lemon_ade', 'outlook.com, cerial_killer', 'outlook.com, light_year', 'gov.in, phoenix', 'outlook.com, harry_potter', 'outlook.com']\n"
     ]
    }
   ],
   "source": [
    "mails = \"turboslayer@gmail.com, someone@outlook.com, crashtv@gov.in, blue_defender@gmail.com, logan@yahoo.com, ironmerc@gov.in, steeltitan@outlook.com, stealthedefender@yahoo.com, blaze_assault@gov.in, venom_fate@yahoo.com, dark_side@yahoo.com, fataldestiny@yahoo.com, ultimatebeast@outlook.com, masked_titan@gmail.com, frozen_gunner@yahoo.com, username_copied@gov.in, whos_ur_buddy@outlook.com, unfinished_sentenc@gov.in, all_gone@gov.in, something@gmail.com, president@gmail.com, tinfoilhat@gmail.com, anonymouse@yahoo.com, definitely_not_an_athlete@outlook.com, dropout@gov.in, paw_friend@outlook.com, test_name_please_ignore@gov.in, heyyou@gov.in, a_distraction@yahoo.com, thegodfatherpart4@gov.in, unfriendme@outlook.com, doodles@gmail.com, fluffycookie@yahoo.com, theintolerant@gmail.com, fourhour@yahoo.com, toastedwithcheese@gmail.com, futureking@yahoo.com, coolshirtbruh@outlook.com, kentucky@yahoo.com, chocolate@gmail.com, saintbroseph@yahoo.com, just_chillin@gmail.com, ghostface@gov.in, bigfootisreal@yahoo.com, newbie@yahoo.com, alienware@outlook.com, chrishemsworth@outlook.com, nachocheesefries@outlook.com, reginageorge@gov.in, harmless_potato@outlook.com, frostedcupcake@outlook.com, avocadorable@outlook.com, pixie_dust@gmail.com, chopsuey@yahoo.com, iron_man@gov.in, lemon_ade@outlook.com, cerial_killer@outlook.com, light_year@gov.in, phoenix@outlook.com, harry_potter@outlook.com\"                                                                                                                                                  \n",
    "x = mails.split(\"@\")\n",
    "print(x)"
   ]
  },
  {
   "cell_type": "code",
   "execution_count": null,
   "id": "ce927f7e",
   "metadata": {},
   "outputs": [],
   "source": []
  },
  {
   "cell_type": "code",
   "execution_count": null,
   "id": "77e98dff",
   "metadata": {},
   "outputs": [],
   "source": []
  }
 ],
 "metadata": {
  "kernelspec": {
   "display_name": "Python 3",
   "language": "python",
   "name": "python3"
  },
  "language_info": {
   "codemirror_mode": {
    "name": "ipython",
    "version": 3
   },
   "file_extension": ".py",
   "mimetype": "text/x-python",
   "name": "python",
   "nbconvert_exporter": "python",
   "pygments_lexer": "ipython3",
   "version": "3.8.10"
  }
 },
 "nbformat": 4,
 "nbformat_minor": 5
}
