{
 "cells": [
  {
   "cell_type": "code",
   "execution_count": 5,
   "id": "111b5544",
   "metadata": {},
   "outputs": [
    {
     "name": "stdout",
     "output_type": "stream",
     "text": [
      "Enter a number : 55\n",
      "55  is an odd number\n"
     ]
    }
   ],
   "source": [
    "num = int(input('Enter a number : '))\n",
    "if (num%2) == 0:\n",
    "    print(num ,' is an even number')\n",
    "else :\n",
    "    print(num ,' is an odd number')"
   ]
  },
  {
   "cell_type": "code",
   "execution_count": null,
   "id": "6c9ceba7",
   "metadata": {},
   "outputs": [],
   "source": []
  }
 ],
 "metadata": {
  "kernelspec": {
   "display_name": "Python 3",
   "language": "python",
   "name": "python3"
  },
  "language_info": {
   "codemirror_mode": {
    "name": "ipython",
    "version": 3
   },
   "file_extension": ".py",
   "mimetype": "text/x-python",
   "name": "python",
   "nbconvert_exporter": "python",
   "pygments_lexer": "ipython3",
   "version": "3.8.10"
  }
 },
 "nbformat": 4,
 "nbformat_minor": 5
}
