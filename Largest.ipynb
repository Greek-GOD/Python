{
 "cells": [
  {
   "cell_type": "code",
   "execution_count": 2,
   "id": "eeeb26a8",
   "metadata": {},
   "outputs": [
    {
     "name": "stdout",
     "output_type": "stream",
     "text": [
      "Enter your 1st no. :5\n",
      "Enter your 2nd no. :9\n",
      "Enter your 3rd no. :65\n",
      "The largeest no. is : 65\n"
     ]
    }
   ],
   "source": [
    "a = int(input('Enter your 1st no. :'))\n",
    "b = int(input('Enter your 2nd no. :'))\n",
    "c = int(input('Enter your 3rd no. :'))\n",
    "if(a<b) and (c<b):\n",
    "    large = b\n",
    "elif (c<a) and (b<a):\n",
    "    large = a\n",
    "else :\n",
    "    large = c\n",
    "print('The largeest no. is :',large)"
   ]
  },
  {
   "cell_type": "code",
   "execution_count": null,
   "id": "877eba8a",
   "metadata": {},
   "outputs": [],
   "source": []
  }
 ],
 "metadata": {
  "kernelspec": {
   "display_name": "Python 3",
   "language": "python",
   "name": "python3"
  },
  "language_info": {
   "codemirror_mode": {
    "name": "ipython",
    "version": 3
   },
   "file_extension": ".py",
   "mimetype": "text/x-python",
   "name": "python",
   "nbconvert_exporter": "python",
   "pygments_lexer": "ipython3",
   "version": "3.8.10"
  }
 },
 "nbformat": 4,
 "nbformat_minor": 5
}
