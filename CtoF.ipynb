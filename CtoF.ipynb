{
 "cells": [
  {
   "cell_type": "code",
   "execution_count": 3,
   "id": "ec8331cc",
   "metadata": {},
   "outputs": [
    {
     "name": "stdout",
     "output_type": "stream",
     "text": [
      "Enter temperature in Celsius: 55\n",
      "55.0  Celsius is equal to 131.0 degree Fahrenheit\n"
     ]
    }
   ],
   "source": [
    "a = float(input('Enter temperature in Celsius: ')) \n",
    "b = (a * 1.8) + 32  \n",
    "print('%0.1f  Celsius is equal to %0.1f degree Fahrenheit'%(a,b))  "
   ]
  },
  {
   "cell_type": "code",
   "execution_count": null,
   "id": "72c1644d",
   "metadata": {},
   "outputs": [],
   "source": []
  },
  {
   "cell_type": "code",
   "execution_count": null,
   "id": "7e0850f6",
   "metadata": {},
   "outputs": [],
   "source": []
  }
 ],
 "metadata": {
  "kernelspec": {
   "display_name": "Python 3",
   "language": "python",
   "name": "python3"
  },
  "language_info": {
   "codemirror_mode": {
    "name": "ipython",
    "version": 3
   },
   "file_extension": ".py",
   "mimetype": "text/x-python",
   "name": "python",
   "nbconvert_exporter": "python",
   "pygments_lexer": "ipython3",
   "version": "3.8.10"
  }
 },
 "nbformat": 4,
 "nbformat_minor": 5
}
