{
 "cells": [
  {
   "cell_type": "code",
   "execution_count": 4,
   "id": "7ec0c0f8",
   "metadata": {},
   "outputs": [
    {
     "name": "stdout",
     "output_type": "stream",
     "text": [
      "{'name': 'Fred', 'country': 'Germany'}\n"
     ]
    }
   ],
   "source": [
    "person = {\n",
    "    \"name\": \"Fred\",\n",
    "    \"age\": 30,\n",
    "    \"country\": \"Germany\"\n",
    "}\n",
    "del person[\"age\"]\n",
    "print(person)"
   ]
  },
  {
   "cell_type": "code",
   "execution_count": 5,
   "id": "54d7368b",
   "metadata": {},
   "outputs": [
    {
     "name": "stdout",
     "output_type": "stream",
     "text": [
      "4\n",
      "{'name': 'Fred', 'country': 'Germany', 'id': 152, 'hobby': 'vdo games'}\n",
      "Not completed\n",
      "dict_values(['Fred', 'Germany', 152, 'vdo games'])\n"
     ]
    }
   ],
   "source": [
    "person = {\n",
    "    \"name\": \"Fred\",\n",
    "    \"age\": 30,\n",
    "    \"country\": \"Germany\"\n",
    "}\n",
    "del person[\"age\"]\n",
    "person.update({\"id\": 152, \"hobby\": \"vdo games\"})\n",
    "print(len(person))\n",
    "print(person)\n",
    "if \"Star\" in person:\n",
    "    print(\"Yes. It's completed\")\n",
    "else:\n",
    "    print(\"Not completed\")\n",
    "x = person.values()\n",
    "print(x)"
   ]
  },
  {
   "cell_type": "code",
   "execution_count": null,
   "id": "9e4c0ec5",
   "metadata": {},
   "outputs": [],
   "source": []
  }
 ],
 "metadata": {
  "kernelspec": {
   "display_name": "Python 3",
   "language": "python",
   "name": "python3"
  },
  "language_info": {
   "codemirror_mode": {
    "name": "ipython",
    "version": 3
   },
   "file_extension": ".py",
   "mimetype": "text/x-python",
   "name": "python",
   "nbconvert_exporter": "python",
   "pygments_lexer": "ipython3",
   "version": "3.8.10"
  }
 },
 "nbformat": 4,
 "nbformat_minor": 5
}
