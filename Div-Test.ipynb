{
 "cells": [
  {
   "cell_type": "code",
   "execution_count": 15,
   "id": "43a9d61f",
   "metadata": {},
   "outputs": [
    {
     "name": "stdout",
     "output_type": "stream",
     "text": [
      "Enter the Size: 3\n",
      "Enter 3 Numbers: 45\n",
      "65\n",
      "25\n",
      "\n",
      "Enter a Number to Apply Divisibility Test: 3\n",
      "45\n"
     ]
    }
   ],
   "source": [
    "def divTest(x, y):\n",
    "  if x%y==0:\n",
    "    return 1\n",
    "\n",
    "print(\"Enter the Size: \", end=\"\")\n",
    "tot = int(input())\n",
    "\n",
    "print(\"Enter \" +str(tot)+ \" Numbers: \", end=\"\")\n",
    "nums = []\n",
    "for i in range(tot):\n",
    "  nums.append(int(input()))\n",
    "\n",
    "print(\"\\nEnter a Number to Apply Divisibility Test: \", end=\"\")\n",
    "val = int(input())\n",
    "\n",
    "for i in range(tot):\n",
    "  if divTest(nums[i], val) == 1:\n",
    "    print(nums[i])"
   ]
  },
  {
   "cell_type": "code",
   "execution_count": null,
   "id": "2b5a10b3",
   "metadata": {},
   "outputs": [],
   "source": []
  }
 ],
 "metadata": {
  "kernelspec": {
   "display_name": "Python 3",
   "language": "python",
   "name": "python3"
  }
 },
 "nbformat": 4,
 "nbformat_minor": 5
}
