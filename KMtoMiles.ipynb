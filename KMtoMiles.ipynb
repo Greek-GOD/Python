{
 "cells": [
  {
   "cell_type": "code",
   "execution_count": 1,
   "id": "a8c711c0",
   "metadata": {},
   "outputs": [
    {
     "name": "stdout",
     "output_type": "stream",
     "text": [
      "Enter value in kilometers: 40\n",
      "40.00 kilometers is equal to 24.85 miles\n"
     ]
    }
   ],
   "source": [
    "k = float(input(\"Enter value in kilometers: \"))\n",
    "m = k * 0.621371\n",
    "print('%0.2f kilometers is equal to %0.2f miles' %(k,m))"
   ]
  },
  {
   "cell_type": "code",
   "execution_count": null,
   "id": "f413b70e",
   "metadata": {},
   "outputs": [],
   "source": []
  }
 ],
 "metadata": {
  "kernelspec": {
   "display_name": "Python 3",
   "language": "python",
   "name": "python3"
  },
  "language_info": {
   "codemirror_mode": {
    "name": "ipython",
    "version": 3
   },
   "file_extension": ".py",
   "mimetype": "text/x-python",
   "name": "python",
   "nbconvert_exporter": "python",
   "pygments_lexer": "ipython3",
   "version": "3.8.10"
  }
 },
 "nbformat": 4,
 "nbformat_minor": 5
}
